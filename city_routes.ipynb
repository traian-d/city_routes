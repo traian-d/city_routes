{
 "cells": [
  {
   "cell_type": "code",
   "execution_count": null,
   "metadata": {},
   "outputs": [],
   "source": [
    "import geopandas as gpdT\n",
    "import matplotlib.pyplot as plt\n",
    "import networkx as nx\n",
    "import osmnx as ox\n",
    "import pandas as pd\n",
    "import numpy as np\n",
    "ox.config(log_console=True, use_cache=True)\n",
    "\n",
    "import functions as F"
   ]
  },
  {
   "cell_type": "code",
   "execution_count": null,
   "metadata": {},
   "outputs": [],
   "source": [
    "cities = ['Berlin', 'Madrid', 'Rome', 'Bucharest', 'Paris', 'Vienna', 'Hamburg', 'Warsaw', 'Budapest', \n",
    "          'Barcelona', 'Munich', 'Milan', 'Prague', 'Sofia', 'Cologne', 'Stockholm', 'Naples', 'Turin', \n",
    "          'Amsterdam', 'Marseille', 'Zagreb', 'Valencia', 'Kraków', 'Frankfurt', 'Seville', 'Łódź', 'Zaragoza', \n",
    "          'Athens', 'Palermo', 'Rotterdam', 'Helsinki', 'Wrocław', 'Stuttgart', 'Riga', 'Copenhagen', \n",
    "          'Düsseldorf', 'Leipzig', 'Dortmund', 'Essen', 'Gothenburg', 'Genoa', 'Málaga', 'Bremen', 'Vilnius', \n",
    "          'Dresden', 'Dublin', 'The Hague', 'Hanover', 'Poznań', 'Antwerp', 'Nuremberg', 'Lyon', 'Lisbon', \n",
    "          'Duisburg', 'Toulouse', 'Gdańsk', 'Murcia', 'Tallinn', 'Bratislava', 'Palma de Mallorca', 'Szczecin', \n",
    "          'Bologna', 'Brno', 'Iași', 'Florence', 'Las Palmas', 'Bochum', 'Utrecht', 'Wuppertal', 'Bydgoszcz', \n",
    "          'Aarhus', 'Plovdiv', 'Bilbao', 'Malmö', 'Nice', 'Lublin', 'Varna', 'Bielefeld', 'Alicante', 'Timișoara', \n",
    "          'Bonn', 'Córdoba', 'Thessaloniki', 'Cluj-Napoca', 'Bari', 'Constanța', 'Münster', 'Karlsruhe',\n",
    "          'Catania', 'Mannheim', 'Nantes', 'Galați', 'Craiova']"
   ]
  },
  {
   "cell_type": "markdown",
   "metadata": {},
   "source": [
    "# Manhattan"
   ]
  },
  {
   "cell_type": "code",
   "execution_count": null,
   "metadata": {},
   "outputs": [],
   "source": [
    "# manhattan_graph = ox.graph_from_place('Manhattan', network_type='walk')\n",
    "# ox.save_graphml(manhattan_graph, 'manhattan_graph.graphml')\n",
    "\n",
    "manhattan_graph = ox.load_graphml('manhattan_graph.graphml')\n",
    "gdf_manhattan = ox.gdf_from_place('Manhattan')\n",
    "manhattan_sample = pd.read_csv('manhattan_sample.csv')\n",
    "manhattan_stacked = F.stack_coordinates(manhattan_sample)"
   ]
  },
  {
   "cell_type": "code",
   "execution_count": null,
   "metadata": {
    "scrolled": true
   },
   "outputs": [],
   "source": [
    "pts_manhattan = F.make_even_meshgrid(gdf_manhattan, spacing_lat=0.006, spacing_long=0.007)\n",
    "nearest_nodes_manhattan = F.get_nearest_nodes(manhattan_graph, pts_manhattan)\n",
    "F.plot_pts_on_graph(manhattan_graph, nearest_nodes_manhattan)"
   ]
  },
  {
   "cell_type": "code",
   "execution_count": null,
   "metadata": {},
   "outputs": [],
   "source": [
    "manhattan_sample[manhattan_sample['geo_dist'] < 500]"
   ]
  },
  {
   "cell_type": "code",
   "execution_count": null,
   "metadata": {},
   "outputs": [],
   "source": [
    "# manhattan_sample = F.distance_sample(manhattan_graph, nearest_nodes_manhattan)\n",
    "# manhattan_sample_df = pd.DataFrame(manhattan_sample, columns = ['orig_lat', 'orig_long', 'nn_orig', 'dest_lat', 'dest_long', 'nn_dest', 'street_dist', 'geo_dist'])\n",
    "# manhattan_sample_df['dist_ratio'] = manhattan_sample_df['street_dist'] / manhattan_sample_df['geo_dist']\n",
    "# manhattan_sample_df.to_csv('manhattan_sample.csv', header=True, index=False)"
   ]
  },
  {
   "cell_type": "code",
   "execution_count": null,
   "metadata": {
    "scrolled": true
   },
   "outputs": [],
   "source": [
    "F.histograms(manhattan_sample, ['street_dist', 'geo_dist', 'dist_ratio'])"
   ]
  },
  {
   "cell_type": "code",
   "execution_count": null,
   "metadata": {},
   "outputs": [],
   "source": [
    "F.plot_density(manhattan_stacked[['long', 'lat', 'dist_ratio']], title='bandwidth=0.0075, has_weight=True', base_plot=manhattan_graph, bandwidth=0.0075, has_weight=True, show=True)"
   ]
  },
  {
   "cell_type": "code",
   "execution_count": null,
   "metadata": {},
   "outputs": [],
   "source": [
    "# manhattan_stacked = F.stack_coordinates(manhattan_sample[(manhattan_sample['nn_orig'] != 371218803) & \n",
    "#                                                          (manhattan_sample['nn_orig'] != 3786876206)])\n",
    "F.plot_density(manhattan_stacked[(manhattan_stacked['dist_ratio'] >= 1.5)\n",
    "                                ]\n",
    "               [['long', 'lat', 'dist_ratio']], title='bandwidth=0.0075, has_weight=True, dist_ratio >= 1.5', base_plot=manhattan_graph, bandwidth=0.0075, has_weight=True, show=True)"
   ]
  },
  {
   "cell_type": "markdown",
   "metadata": {},
   "source": [
    "# Bucharest"
   ]
  },
  {
   "cell_type": "code",
   "execution_count": null,
   "metadata": {},
   "outputs": [],
   "source": [
    "# bucharest_graph = ox.graph_from_place('Bucharest', network_type='walk', which_result=2)\n",
    "# ox.save_graphml(bucharest_graph, 'bucharest_graph.graphml')\n",
    "\n",
    "bucharest_graph = ox.load_graphml('bucharest_graph.graphml')\n",
    "gdf_buc = ox.gdf_from_place('Bucharest', which_result=2)\n",
    "bucharest_sample = pd.read_csv('bucharest_sample.csv')\n",
    "bucharest_stacked = F.stack_coordinates(bucharest_sample)"
   ]
  },
  {
   "cell_type": "code",
   "execution_count": null,
   "metadata": {
    "scrolled": true
   },
   "outputs": [],
   "source": [
    "pts_buc = F.make_even_meshgrid(gdf_buc, spacing_lat=0.00675, spacing_long=0.0085, margins=[0.05, 0.0375, 0.025, 0.0375])\n",
    "nearest_nodes_buc = F.get_nearest_nodes(bucharest_graph, pts_buc)\n",
    "F.plot_pts_on_graph(bucharest_graph, nearest_nodes_buc)"
   ]
  },
  {
   "cell_type": "code",
   "execution_count": null,
   "metadata": {},
   "outputs": [],
   "source": [
    "# bucharest_sample = distance_sample(bucharest_graph, nearest_nodes_buc)\n",
    "# bucharest_sample_df = pd.DataFrame(bucharest_sample, columns = ['orig_lat', 'orig_long', 'nn_orig', 'dest_lat', 'dest_long', 'nn_dest', 'street_dist', 'geo_dist', 'full_path'])\n",
    "# bucharest_sample_df['geo_dist'] = bucharest_sample_df.apply(lambda x: great_circle_dist(bucharest_graph.nodes[x['nn_orig']], \n",
    "#                                                                               bucharest_graph.nodes[x['nn_dest']]), \n",
    "#                                                   axis=1)\n",
    "# bucharest_sample_df['dist_ratio'] = bucharest_sample_df['street_dist'] / bucharest_sample_df['geo_dist']\n",
    "# bucharest_sample_df.to_csv('bucharest_sample.csv', header=True, index=False)"
   ]
  },
  {
   "cell_type": "code",
   "execution_count": null,
   "metadata": {
    "scrolled": true
   },
   "outputs": [],
   "source": [
    "F.histograms(bucharest_sample_df, ['street_dist', 'geo_dist', 'dist_ratio'])"
   ]
  },
  {
   "cell_type": "code",
   "execution_count": null,
   "metadata": {
    "scrolled": true
   },
   "outputs": [],
   "source": [
    "plot_density(bucharest_stacked#[(bucharest_stacked['dist_ratio'] > 1.2) \n",
    "#                                (bucharest_stacked['geo_dist'] <= 2000)\n",
    "             #                 ]\n",
    "             [['long', 'lat', 'dist_ratio']], \n",
    "             title='', base_plot=bucharest_graph, bandwidth=0.0075, has_weight=False, show=True)"
   ]
  },
  {
   "cell_type": "code",
   "execution_count": null,
   "metadata": {},
   "outputs": [],
   "source": [
    "F.plot_density(bucharest_stacked[bucharest_stacked['geo_dist'] <= 3000][['long', 'lat', 'dist_ratio']], \n",
    "             title='', base_plot=bucharest_graph, bandwidth=0.0075, has_weight=True, show=True)"
   ]
  },
  {
   "cell_type": "code",
   "execution_count": null,
   "metadata": {},
   "outputs": [],
   "source": [
    "F.plot_density(bucharest_stacked[(bucharest_stacked['dist_ratio'] > 1.25) \n",
    "                                ][['long', 'lat', 'dist_ratio']], \n",
    "             title='bandwidth=0.0075, has_weight=True, dist_ratio > 1.25', base_plot=bucharest_graph, bandwidth=0.0075, has_weight=True, show=True)"
   ]
  },
  {
   "cell_type": "markdown",
   "metadata": {},
   "source": [
    "# Amsterdam"
   ]
  },
  {
   "cell_type": "code",
   "execution_count": null,
   "metadata": {},
   "outputs": [],
   "source": [
    "# amsterdam_graph = ox.graph_from_place('Amsterdam', network_type='walk')\n",
    "# ox.save_graphml(amsterdam_graph, 'amsterdam_graph.graphml')\n",
    "\n",
    "amsterdam_graph = ox.load_graphml('amsterdam_graph.graphml')\n",
    "gdf_amsterdam = ox.gdf_from_place('Amsterdam')\n",
    "amsterdam_sample = pd.read_csv('amsterdam_sample.csv')\n",
    "amsterdam_stacked = F.stack_coordinates(amsterdam_sample)"
   ]
  },
  {
   "cell_type": "code",
   "execution_count": null,
   "metadata": {
    "scrolled": true
   },
   "outputs": [],
   "source": [
    "pts_amsterdam = F.make_even_meshgrid(gdf_amsterdam, spacing_lat=0.00675, spacing_long=0.0085, margins=[0.0, 0.0, 0.125, 0.05])\n",
    "nearest_nodes_amsterdam = F.get_nearest_nodes(amsterdam_graph, pts_amsterdam)\n",
    "F.plot_pts_on_graph(amsterdam_graph, nearest_nodes_amsterdam)"
   ]
  },
  {
   "cell_type": "code",
   "execution_count": null,
   "metadata": {},
   "outputs": [],
   "source": [
    "# amsterdam_sample = distance_sample(amsterdam_graph, nearest_nodes_amsterdam)\n",
    "# amsterdam_sample_df = pd.DataFrame(amsterdam_sample, columns = ['orig_lat', 'orig_long', 'nn_orig', 'dest_lat', 'dest_long', 'nn_dest', 'street_dist', 'geo_dist'])\n",
    "# amsterdam_sample_df['dist_ratio'] = amsterdam_sample_df['street_dist'] / amsterdam_sample_df['geo_dist']\n",
    "# amsterdam_sample_df.to_csv('amsterdam_sample.csv', header=True, index=False)"
   ]
  },
  {
   "cell_type": "code",
   "execution_count": null,
   "metadata": {},
   "outputs": [],
   "source": [
    "F.histograms(amsterdam_sample_df, ['street_dist', 'geo_dist', 'dist_ratio'])"
   ]
  },
  {
   "cell_type": "code",
   "execution_count": null,
   "metadata": {},
   "outputs": [],
   "source": [
    "F.plot_density(amsterdam_stacked[['long', 'lat', 'dist_ratio']], title='bandwidth=0.0075, has_weight=False', base_plot=amsterdam_graph, bandwidth=0.0075, has_weight=False, show=True)"
   ]
  },
  {
   "cell_type": "code",
   "execution_count": null,
   "metadata": {
    "scrolled": true
   },
   "outputs": [],
   "source": [
    "F.plot_density(amsterdam_stacked[\n",
    "    (amsterdam_stacked['dist_ratio'] >= 1.5)\n",
    "#     (amsterdam_stacked['geo_dist'] <= 2000) & \n",
    "#     (amsterdam_stacked['lat'] > 52.32)\n",
    "][['long', 'lat', 'dist_ratio']], title='', base_plot=amsterdam_graph, bandwidth=0.0075, has_weight=True, show=True)"
   ]
  },
  {
   "cell_type": "markdown",
   "metadata": {},
   "source": [
    "# ----------------------------------------------------------------------------------------------"
   ]
  },
  {
   "cell_type": "code",
   "execution_count": null,
   "metadata": {},
   "outputs": [],
   "source": [
    "origin_point = (40.861823, -73.924137)\n",
    "destination_point = (40.858565, -73.923156)\n",
    "\n",
    "origin_node = ox.get_nearest_node(manhattan_graph, origin_point)\n",
    "destination_node = ox.get_nearest_node(manhattan_graph, destination_point)\n",
    "\n",
    "route = nx.shortest_path(manhattan_graph, origin_node, destination_node, weight='length')\n",
    "fig, ax = ox.plot_graph_route(manhattan_graph, route, origin_point=origin_point, destination_point=destination_point,  \n",
    "                        axis_off=False, use_geom=False, show=False, close=False)\n",
    "\n",
    "plt.show()"
   ]
  },
  {
   "cell_type": "code",
   "execution_count": null,
   "metadata": {
    "scrolled": true
   },
   "outputs": [],
   "source": [
    "origin_point = (52.359266, 4.916046)\n",
    "destination_point = (52.422185, 4.899023)\n",
    "\n",
    "origin_node = ox.get_nearest_node(amsterdam_graph, origin_point)\n",
    "destination_node = ox.get_nearest_node(amsterdam_graph, destination_point)\n",
    "\n",
    "route = nx.shortest_path(amsterdam_graph, origin_node, destination_node, weight='length')\n",
    "fig, ax = ox.plot_graph_route(amsterdam_graph, route, origin_point=origin_point, destination_point=destination_point,  \n",
    "                        axis_off=False, use_geom=False, show=False, close=False)\n",
    "\n",
    "plt.show()"
   ]
  }
 ],
 "metadata": {
  "kernelspec": {
   "display_name": "python3_6",
   "language": "python",
   "name": "python3_6"
  },
  "language_info": {
   "codemirror_mode": {
    "name": "ipython",
    "version": 3
   },
   "file_extension": ".py",
   "mimetype": "text/x-python",
   "name": "python",
   "nbconvert_exporter": "python",
   "pygments_lexer": "ipython3",
   "version": "3.6.9"
  }
 },
 "nbformat": 4,
 "nbformat_minor": 4
}
